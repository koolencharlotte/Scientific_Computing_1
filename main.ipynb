{
 "cells": [
  {
   "cell_type": "code",
   "execution_count": null,
   "metadata": {},
   "outputs": [],
   "source": [
    "import numpy as np\n",
    "import matplotlib.pyplot as plt\n",
    "import scipy\n",
    "import numba \n",
    "from matplotlib.animation import FuncAnimation"
   ]
  },
  {
   "cell_type": "code",
   "execution_count": null,
   "metadata": {},
   "outputs": [],
   "source": [
    "import src.solutions as solutions\n",
    "import src.visualizations as visualizations"
   ]
  },
  {
   "cell_type": "markdown",
   "metadata": {},
   "source": [
    "## Part 1"
   ]
  },
  {
   "cell_type": "markdown",
   "metadata": {},
   "source": [
    "first draft on assignment 1a, wrote it as an iterative scheme over time and space, saving the two previous time values for the computation of the next time point"
   ]
  },
  {
   "cell_type": "markdown",
   "metadata": {},
   "source": [
    "The discretized wave equation becomes (with functions from solutions): \n",
    "\n",
    "time_approx_1a(deltat, time, func, x) = c^2* spat_approx_1a(deltax, time, func, x, L)\n",
    "\n",
    "you can rewrite this to get the values of the next time point"
   ]
  },
  {
   "cell_type": "markdown",
   "metadata": {},
   "source": [
    "### B\n",
    "\n",
    "Euler's method \n",
    "\n",
    "f_x+1 = f_x + h * f'_x\n",
    "\n",
    "(c*delta t)/delta x < 1 for stable computation \n",
    "looking at this method, you can derive that in the first two time-points, the function follows the exact same curve as the derivative (f'_x) is 0"
   ]
  },
  {
   "cell_type": "code",
   "execution_count": null,
   "metadata": {},
   "outputs": [],
   "source": [
    "#choose out of options 1, 2 or 3\n",
    "\n",
    "L = 1\n",
    "N = 100\n",
    "c = 1\n",
    "deltat= 0.001\n",
    "overall_solutions=[]\n",
    "for i in range(3):\n",
    "    overall_solution, xs = solutions.one_b_wrapper(i+1, L, N, c, deltat)\n",
    "    overall_solutions.append(overall_solution)\n",
    "\n",
    "visualizations.visualization_1b(overall_solutions, xs)"
   ]
  },
  {
   "cell_type": "code",
   "execution_count": null,
   "metadata": {},
   "outputs": [],
   "source": [
    "L = 1\n",
    "N = 100\n",
    "c = 1\n",
    "deltat= 0.001\n",
    "visualizations.animate_1c(L, N, c, deltat)\n"
   ]
  },
  {
   "cell_type": "code",
   "execution_count": null,
   "metadata": {},
   "outputs": [],
   "source": []
  },
  {
   "cell_type": "markdown",
   "metadata": {},
   "source": [
    "I\n",
    "\n",
    "Show how the convergence measure δ in eq. (14) depends on the number of iterations k for each of the methods. A log-lin plot may be suitable. For SOR, choose a few representative values for ω. "
   ]
  },
  {
   "cell_type": "code",
   "execution_count": null,
   "metadata": {},
   "outputs": [],
   "source": [
    "# parameters\n",
    "p_values = np.arange(1, 10)\n",
    "omegas = [1, 1.5]\n",
    "N = 50\n",
    "max_iters = 10000\n",
    "\n",
    "iterations_jacobi = [solutions.sequential_jacobi(N=N, tol=10.0**-p, max_iters=max_iters) for p in p_values]\n",
    "iterations_gauss_seidel = [solutions.sequential_gauss_seidel(N=N, tol=10.0**-p, max_iters=max_iters) for p in p_values]\n",
    "\n",
    "for omega in omegas:\n",
    "    iterations_sor = [solutions.sequential_SOR(N=N, tol=10.0**-p, max_iters=max_iters, omega=omega) for p in p_values]\n",
    "\n",
    "visualizations.visualization_1i(p_values, iterations_jacobi, iterations_gauss_seidel, iterations_sor)\n"
   ]
  },
  {
   "cell_type": "markdown",
   "metadata": {},
   "source": [
    "J \n",
    "\n",
    "In the SOR method, find the optimal ω. How does it depend on N?."
   ]
  },
  {
   "cell_type": "code",
   "execution_count": null,
   "metadata": {},
   "outputs": [],
   "source": [
    "# parameters\n",
    "omega_range = np.arange(1.7, 2.0, 0.05)\n",
    "N_values = [10, 20, 50, 100]\n",
    "max_iters = 10000 # delete this later (also already above)\n",
    "\n",
    "optimal_omegas = []\n",
    "iters_N = {}\n",
    "\n",
    "for N in N_values:\n",
    "    best_omega = None\n",
    "    min_iters = float('inf')\n",
    "\n",
    "    iters_omega = []\n",
    "\n",
    "    for omega in omega_range:\n",
    "        iters = solutions.sequential_SOR(N=N, tol=1e-6, max_iters=max_iters, omega=omega)\n",
    "\n",
    "        iters_omega.append(iters)\n",
    "\n",
    "        if iters < min_iters:\n",
    "            min_iters = iters\n",
    "            best_omega = omega\n",
    "\n",
    "    optimal_omegas.append(best_omega)\n",
    "    iters_N[N] = iters_omega\n",
    "\n",
    "visualizations.visualization_1j_omega_iters(iters_N, omega_range)\n",
    "visualizations.visualization_1j_N_omegas(N_values, optimal_omegas)"
   ]
  },
  {
   "cell_type": "code",
   "execution_count": null,
   "metadata": {},
   "outputs": [],
   "source": []
  }
 ],
 "metadata": {
  "kernelspec": {
   "display_name": ".venv",
   "language": "python",
   "name": "python3"
  },
  "language_info": {
   "codemirror_mode": {
    "name": "ipython",
    "version": 3
   },
   "file_extension": ".py",
   "mimetype": "text/x-python",
   "name": "python",
   "nbconvert_exporter": "python",
   "pygments_lexer": "ipython3",
   "version": "3.11.9"
  }
 },
 "nbformat": 4,
 "nbformat_minor": 2
}
