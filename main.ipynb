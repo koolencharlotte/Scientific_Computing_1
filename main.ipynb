{
 "cells": [
  {
   "cell_type": "markdown",
   "metadata": {},
   "source": [
    "# Assignment 1 Scientific Computing "
   ]
  },
  {
   "cell_type": "markdown",
   "metadata": {},
   "source": [
    "## Imports"
   ]
  },
  {
   "cell_type": "code",
   "execution_count": 1,
   "metadata": {},
   "outputs": [],
   "source": [
    "import numpy as np\n",
    "import matplotlib.pyplot as plt\n",
    "import scipy\n",
    "import numba \n",
    "from matplotlib.animation import FuncAnimation\n",
    "import os\n",
    "import pickle as pkl\n",
    "from IPython.display import HTML"
   ]
  },
  {
   "cell_type": "code",
   "execution_count": 2,
   "metadata": {},
   "outputs": [],
   "source": [
    "import src.solutions as solutions\n",
    "import src.visualizations as visualizations\n"
   ]
  },
  {
   "cell_type": "code",
   "execution_count": 3,
   "metadata": {},
   "outputs": [],
   "source": [
    "colors = [\"orange\", \"blue\", \"green\", \"purple\", \"brown\"]"
   ]
  },
  {
   "cell_type": "markdown",
   "metadata": {},
   "source": [
    "## Part 1"
   ]
  },
  {
   "cell_type": "markdown",
   "metadata": {},
   "source": [
    "first draft on assignment 1a, wrote it as an iterative scheme over time and space, saving the two previous time values for the computation of the next time point"
   ]
  },
  {
   "cell_type": "markdown",
   "metadata": {},
   "source": [
    "The discretized wave equation becomes (with functions from solutions): \n",
    "\n",
    "time_approx_1a(deltat, time, func, x) = c^2* spat_approx_1a(deltax, time, func, x, L)\n",
    "\n",
    "you can rewrite this to get the values of the next time point"
   ]
  },
  {
   "cell_type": "markdown",
   "metadata": {},
   "source": [
    "### B\n",
    "\n",
    "Euler's method \n",
    "\n",
    "f_x+1 = f_x + h * f'_x\n",
    "\n",
    "(c*delta t)/delta x < 1 for stable computation \n",
    "looking at this method, you can derive that in the first two time-points, the function follows the exact same curve as the derivative (f'_x) is 0"
   ]
  },
  {
   "cell_type": "markdown",
   "metadata": {},
   "source": [
    "### Plotted snapshots of the wave at different times"
   ]
  },
  {
   "cell_type": "code",
   "execution_count": null,
   "metadata": {},
   "outputs": [],
   "source": [
    "#choose out of options 1, 2 or 3\n",
    "\n",
    "L = 1\n",
    "N = 100\n",
    "c = 1\n",
    "deltat= 0.001\n",
    "iterations = 30000\n",
    "overall_solutions=[]\n",
    "for i in range(3):\n",
    "    overall_solution, xs = solutions.one_b_wrapper(i+1, L, N, c, deltat, iterations)\n",
    "    overall_solutions.append(overall_solution)\n",
    "\n",
    "visualizations.visualization_1b(overall_solutions, xs)"
   ]
  },
  {
   "cell_type": "markdown",
   "metadata": {},
   "source": [
    "### Wave Animation "
   ]
  },
  {
   "cell_type": "code",
   "execution_count": null,
   "metadata": {},
   "outputs": [],
   "source": [
    "# initial values for the wave equation \n",
    "visualizations.animate_1c(L, N, c, deltat)\n"
   ]
  },
  {
   "cell_type": "markdown",
   "metadata": {},
   "source": [
    "The equations for the boundaries:\n",
    "\n",
    "c^(k+1)_(0, j) = 1 -> top row <br>\n",
    "c^(k+1)_(N-1, j) = 0 -> bottom row <br>\n",
    "c^(k+1)_(i, 0) = c^(k+1)_(i, N - 2) -> first column <br>\n",
    "c^(k+1)_(i, -1) = c^(k+1)_(i, 1) -> last column <br>"
   ]
  },
  {
   "cell_type": "markdown",
   "metadata": {},
   "source": [
    "## Diffusion"
   ]
  },
  {
   "cell_type": "code",
   "execution_count": 4,
   "metadata": {},
   "outputs": [],
   "source": [
    "# values used for initial diffusion setup \n",
    "# main parameter values (for discretization)\n",
    "N = 100\n",
    "L = 1.0\n",
    "D = 1\n",
    "\n",
    "# setp sizes\n",
    "dx = L / N\n",
    "dt = 0.25 * dx**2\n",
    "\n",
    "# initial setup\n",
    "gamma = (D * dt) / (dx**2) #what is this gamma\n",
    "num_steps = int(1.0/ dt)\n",
    "y_values = np.linspace(0, 1, N)\n",
    "c = solutions.initialize_grid(N)\n",
    "\n",
    "par_values = (c, num_steps, N, gamma, dt)"
   ]
  },
  {
   "cell_type": "markdown",
   "metadata": {},
   "source": [
    "#### Comparison analytical with numerical solution"
   ]
  },
  {
   "cell_type": "code",
   "execution_count": null,
   "metadata": {},
   "outputs": [],
   "source": [
    "\n",
    "# parse data and check directory layout and file existence or create new data\n",
    "create_new_data = False\n",
    "data_file = \"2D_diffusion.pkl\"\n",
    "all_c, times = solutions.check_and_parse_data(data_file, create_new_data, par_values)\n",
    "\n",
    "# visualize the data together with analytical solution. \n",
    "# visualizations.plot_analytical_solution(y_values, all_c, times, D)\n",
    "visualizations.plot_analytical_solution(y_values, all_c, times, D)\n",
    "# t values 0, 0.001, 0.01, 0.1, 1.0\n",
    "visualizations.plot_five_states(all_c, times)"
   ]
  },
  {
   "cell_type": "markdown",
   "metadata": {},
   "source": [
    "### Snapshot of 5 Diffusion configurations "
   ]
  },
  {
   "cell_type": "code",
   "execution_count": null,
   "metadata": {},
   "outputs": [],
   "source": [
    "\n",
    "# data parsing/generation \n",
    "data_file = \"2D_diffusion_comparison.pkl\"\n",
    "create_new_data = False\n",
    "all_c, times = solutions.check_and_parse_data(data_file, create_new_data, par_values)\n",
    "\n",
    "# visualizations.plot_simulation_without_animation(all_c, N)\n",
    "\n",
    "# animation \n",
    "%matplotlib inline\n",
    "anim = visualizations.animate_2f(solutions.update, c, num_steps, N, gamma, dt)\n",
    "HTML(anim.to_jshtml())"
   ]
  },
  {
   "cell_type": "markdown",
   "metadata": {},
   "source": [
    "I\n",
    "\n",
    "Show how the convergence measure δ in eq. (14) depends on the number\n",
    " of iterations k for each of the methods. A log-lin plot may be suitable. For SOR,\n",
    " choose a few representative values for ω."
   ]
  },
  {
   "cell_type": "code",
   "execution_count": null,
   "metadata": {},
   "outputs": [],
   "source": [
    "# parameters\n",
    "p_values = np.arange(1, 10)\n",
    "omegas = [1, 1.5]\n",
    "N = 50\n",
    "max_iters = 10000\n",
    "\n",
    "iterations_jacobi = [solutions.sequential_jacobi(N=N, tol=10.0**-p, max_iters=max_iters) for p in p_values]\n",
    "iterations_gauss_seidel = [solutions.sequential_gauss_seidel(N=N, tol=10.0**-p, max_iters=max_iters) for p in p_values]\n",
    "\n",
    "for omega in omegas:\n",
    "    iterations_sor = [solutions.sequential_SOR(N=N, tol=10.0**-p, max_iters=max_iters, omega=omega) for p in p_values]\n",
    "\n",
    "visualizations.visualization_1i(p_values, iterations_jacobi, iterations_gauss_seidel, iterations_sor)"
   ]
  },
  {
   "cell_type": "markdown",
   "metadata": {},
   "source": [
    "J \n",
    "\n",
    "In the SOR method, find the optimal ω. How does it depend on N?."
   ]
  },
  {
   "cell_type": "code",
   "execution_count": null,
   "metadata": {},
   "outputs": [
    {
     "data": {
      "image/png": "[encoded data removed]",
      "text/plain": [
       "<Figure size 530x250 with 1 Axes>"
      ]
     },
     "metadata": {},
     "output_type": "display_data"
    },
    {
     "data": {
      "image/png": "[encoded data removed]",
      "text/plain": [
       "<Figure size 530x250 with 1 Axes>"
      ]
     },
     "metadata": {},
     "output_type": "display_data"
    }
   ],
   "source": [
    "# parameters\n",
    "omega_range = np.arange(1.7, 2.0, 0.05)\n",
    "N_values = [10, 20, 50, 100]\n",
    "max_iters = 10000 # delete this later (also already above)\n",
    "\n",
    "optimal_omegas = []\n",
    "iters_N = {}\n",
    "\n",
    "for N in N_values:\n",
    "    best_omega = None\n",
    "    min_iters = float('inf')\n",
    "\n",
    "    iters_omega = []\n",
    "\n",
    "    for omega in omega_range:\n",
    "        iters = solutions.sequential_SOR(N=N, tol=1e-6, max_iters=max_iters, omega=omega)\n",
    "\n",
    "        iters_omega.append(iters)\n",
    "\n",
    "        if iters < min_iters:\n",
    "            min_iters = iters\n",
    "            best_omega = omega\n",
    "\n",
    "    optimal_omegas.append(best_omega)\n",
    "    iters_N[N] = iters_omega\n",
    "\n",
    "visualizations.visualization_1j_omega_iters(iters_N, omega_range, colors=colors)\n",
    "visualizations.visualization_1j_N_omegas(N_values, optimal_omegas, colors=colors)"
   ]
  },
  {
   "cell_type": "code",
   "execution_count": null,
   "metadata": {},
   "outputs": [],
   "source": []
  }
 ],
 "metadata": {
  "kernelspec": {
   "display_name": "base",
   "language": "python",
   "name": "python3"
  },
  "language_info": {
   "codemirror_mode": {
    "name": "ipython",
    "version": 3
   },
   "file_extension": ".py",
   "mimetype": "text/x-python",
   "name": "python",
   "nbconvert_exporter": "python",
   "pygments_lexer": "ipython3",
   "version": "3.11.4"
  }
 },
 "nbformat": 4,
 "nbformat_minor": 2
}
