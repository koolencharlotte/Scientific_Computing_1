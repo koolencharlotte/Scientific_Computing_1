{
 "cells": [
  {
   "cell_type": "code",
   "execution_count": 1,
   "metadata": {},
   "outputs": [],
   "source": [
    "import numpy as np\n",
    "import matplotlib.pyplot as plt\n",
    "import scipy\n",
    "import numba \n",
    "from matplotlib.animation import FuncAnimation"
   ]
  },
  {
   "cell_type": "code",
   "execution_count": 2,
   "metadata": {},
   "outputs": [],
   "source": [
    "import src.solutions as solutions\n",
    "import src.visualizations as visualizations"
   ]
  },
  {
   "cell_type": "markdown",
   "metadata": {},
   "source": [
    "## Part 1"
   ]
  },
  {
   "cell_type": "markdown",
   "metadata": {},
   "source": [
    "first draft on assignment 1a, wrote it as an iterative scheme over time and space, saving the two previous time values for the computation of the next time point"
   ]
  },
  {
   "cell_type": "markdown",
   "metadata": {},
   "source": [
    "The discretized wave equation becomes (with functions from solutions): \n",
    "\n",
    "time_approx_1a(deltat, time, func, x) = c^2* spat_approx_1a(deltax, time, func, x, L)\n",
    "\n",
    "you can rewrite this to get the values of the next time point"
   ]
  },
  {
   "cell_type": "markdown",
   "metadata": {},
   "source": [
    "### B\n",
    "\n",
    "Euler's method \n",
    "\n",
    "f_x+1 = f_x + h * f'_x\n",
    "\n",
    "(c*delta t)/delta x < 1 for stable computation \n",
    "looking at this method, you can derive that in the first two time-points, the function follows the exact same curve as the derivative (f'_x) is 0"
   ]
  },
  {
   "cell_type": "code",
   "execution_count": null,
   "metadata": {},
   "outputs": [],
   "source": [
    "#choose out of options 1, 2 or 3\n",
    "\n",
    "L = 1\n",
    "N = 100\n",
    "c = 1\n",
    "deltat= 0.001\n",
    "overall_solutions=[]\n",
    "for i in range(3):\n",
    "    overall_solution, xs = solutions.one_b_wrapper(i+1, L, N, c, deltat)\n",
    "    overall_solutions.append(overall_solution)\n",
    "\n",
    "visualizations.visualization_1b(overall_solutions, xs)"
   ]
  },
  {
   "cell_type": "code",
   "execution_count": null,
   "metadata": {},
   "outputs": [],
   "source": [
    "L = 1\n",
    "N = 100\n",
    "c = 1\n",
    "deltat= 0.001\n",
    "visualizations.animate_1c(L, N, c, deltat)\n"
   ]
  },
  {
   "cell_type": "code",
   "execution_count": null,
   "metadata": {},
   "outputs": [],
   "source": []
  }
 ],
 "metadata": {
  "kernelspec": {
   "display_name": "myenvsc",
   "language": "python",
   "name": "python3"
  },
  "language_info": {
   "codemirror_mode": {
    "name": "ipython",
    "version": 3
   },
   "file_extension": ".py",
   "mimetype": "text/x-python",
   "name": "python",
   "nbconvert_exporter": "python",
   "pygments_lexer": "ipython3",
   "version": "3.12.3"
  }
 },
 "nbformat": 4,
 "nbformat_minor": 2
}
