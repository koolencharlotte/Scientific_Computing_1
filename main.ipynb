{
 "cells": [
  {
   "cell_type": "code",
   "execution_count": null,
   "metadata": {},
   "outputs": [],
   "source": [
    "import numpy as np\n",
    "import matplotlib.pyplot as plt\n",
    "import scipy\n",
    "import numba "
   ]
  },
  {
   "cell_type": "markdown",
   "metadata": {},
   "source": [
    "## Part 1"
   ]
  },
  {
   "cell_type": "markdown",
   "metadata": {},
   "source": [
    "first draft on assignment 1a, wrote it as an iterative scheme over time and space, saving the two previous time values for the computation of the next time point"
   ]
  },
  {
   "cell_type": "code",
   "execution_count": 8,
   "metadata": {},
   "outputs": [],
   "source": [
    "def spat_approx_1a(deltax, time, solutions, x, L):\n",
    "    # if np.isclose(x, deltax): \n",
    "    #     # border condition 0\n",
    "    #     return (func(2*deltax, time) - 2 * solutions[1] + func(0, time))/np.power(deltax, 2)\n",
    "    # elif np.isclose(x, L-deltax): \n",
    "    #     # border condition 1\n",
    "    #     return ( func(L- 2*deltax, time)-2*func(L-deltax, time) + func(L, time))/np.power(deltax, 2)\n",
    "    # else:\n",
    "        # middle point\n",
    "    return (solutions[2] - 2*solutions[1] + solutions[0])/np.power(deltax, 2)\n"
   ]
  },
  {
   "cell_type": "code",
   "execution_count": 9,
   "metadata": {},
   "outputs": [],
   "source": [
    "def time_approx_1a(deltat, time, func, x):\n",
    "    return (func(x, time+deltat) - 2*func(x, time) + func(x, time-deltat))/np.power(deltat, 2)"
   ]
  },
  {
   "cell_type": "markdown",
   "metadata": {},
   "source": [
    "thus, the discretized wave equation becomes: \n",
    "\n",
    "time_approx_1a(deltat, time, func, x) = c^2* spat_approx_1a(deltax, time, func, x, L)\n",
    "\n",
    "you can rewrite this to get the values of the next time point"
   ]
  },
  {
   "cell_type": "code",
   "execution_count": null,
   "metadata": {},
   "outputs": [],
   "source": [
    "L = 1\n",
    "N = 100\n",
    "c=2\n",
    "time = 0\n",
    "\n",
    "deltax = L/N\n",
    "deltat = L/N\n",
    "xs = np.arange(0, L, deltax)\n",
    "\n",
    "#saving the solutions\n",
    "sols_prev = np.zeros(len(xs))\n",
    "sols = np.zeros(len(xs))\n",
    "sols_next = np.zeros(len(xs))\n",
    "\n",
    "#the full function \n",
    "for i in range(1000):\n",
    "    for j,x in enumerate(xs):\n",
    "        if j == 0: \n",
    "            sols_next[j]= 0\n",
    "        elif j == len(xs) -1:\n",
    "            sols_next[j] = 0\n",
    "        else:\n",
    "            sols_next[j] = np.power(deltat, 2) * np.power(c, 2) * spat_approx_1a(deltax, time, (sols[j-1], sols[j], sols[j+1]), x, L) + 2*sols[j] - sols_prev[j]\n",
    "\n",
    "    sols_prev = sols_next.copy()\n",
    "    sols = sols_next.copy()\n",
    "    "
   ]
  },
  {
   "cell_type": "markdown",
   "metadata": {},
   "source": [
    "### B\n",
    "\n",
    "Euler's method \n",
    "\n",
    "f_x+1 = f_x + h * f'_x\n",
    "\n",
    "(c*delta t)/delta x < 1 for stable computation \n",
    "looking at this method, you can derive that in the first two time-points, the function follows the exact same curve as the derivative (f'_x) is 0"
   ]
  },
  {
   "cell_type": "code",
   "execution_count": 16,
   "metadata": {},
   "outputs": [],
   "source": [
    "\n",
    "def b_one(x):\n",
    "    return np.sin(2*np.pi*x)\n",
    "\n",
    "def b_two(x):\n",
    "    return np.sin(5*np.pi*x)\n",
    "\n",
    "L = 1\n",
    "N = 100\n",
    "c=1\n",
    "time = 0\n",
    "\n",
    "deltax = L/N\n",
    "deltat = 0.001\n",
    "xs = np.arange(0, L, deltax)\n",
    "\n",
    "#saving the solutions\n",
    "sols_prev = [b_one(xje) for xje in xs]\n",
    "sols = sols_prev.copy()\n",
    "\n",
    "sols_next = np.zeros(len(xs))\n",
    "\n",
    "overall_solutions = []\n",
    "\n",
    "#the full function \n",
    "for i in range(10000):\n",
    "    for j,x in enumerate(xs):\n",
    "        if j == 0: \n",
    "            sols_next[j]= 0\n",
    "        elif j == len(xs) -1:\n",
    "            sols_next[j] = 0\n",
    "        else:\n",
    "            sols_next[j] = np.power(deltat, 2) * np.power(c, 2) * spat_approx_1a(deltax, time, (sols[j-1], sols[j], sols[j+1]), x, L) + 2*sols[j] - sols_prev[j]\n",
    "    if i%1000 == 0: \n",
    "        overall_solutions.append(sols)\n",
    "    sols_prev = sols_next.copy()\n",
    "    sols = sols_next.copy()"
   ]
  },
  {
   "cell_type": "code",
   "execution_count": null,
   "metadata": {},
   "outputs": [],
   "source": [
    "plt.figure(figsize=(5,5))\n",
    "for k in range(len(overall_solutions)):\n",
    "    plt.plot(xs, overall_solutions[k])\n",
    "\n",
    "plt.title(\"Numerical Time-stepping Approximation\")\n",
    "plt.xlabel(\"L\")\n",
    "plt.ylabel(r'$\\Psi^n$')\n",
    "plt.show()"
   ]
  },
  {
   "cell_type": "code",
   "execution_count": null,
   "metadata": {},
   "outputs": [],
   "source": []
  }
 ],
 "metadata": {
  "kernelspec": {
   "display_name": "myenvsc",
   "language": "python",
   "name": "python3"
  },
  "language_info": {
   "codemirror_mode": {
    "name": "ipython",
    "version": 3
   },
   "file_extension": ".py",
   "mimetype": "text/x-python",
   "name": "python",
   "nbconvert_exporter": "python",
   "pygments_lexer": "ipython3",
   "version": "3.12.3"
  }
 },
 "nbformat": 4,
 "nbformat_minor": 2
}
