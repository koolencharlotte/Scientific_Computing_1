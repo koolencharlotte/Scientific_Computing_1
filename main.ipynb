{
 "cells": [
  {
   "cell_type": "markdown",
   "metadata": {},
   "source": [
    "# Assignment 1 Scientific Computing "
   ]
  },
  {
   "cell_type": "markdown",
   "metadata": {},
   "source": [
    "## Imports"
   ]
  },
  {
   "cell_type": "code",
   "execution_count": 1,
   "metadata": {},
   "outputs": [],
   "source": [
    "import numpy as np\n",
    "import matplotlib.pyplot as plt\n",
    "import scipy\n",
    "import numba \n",
    "from matplotlib.animation import FuncAnimation\n",
    "import os\n",
    "import pickle as pkl\n",
    "from IPython.display import HTML"
   ]
  },
  {
   "cell_type": "code",
   "execution_count": 2,
   "metadata": {},
   "outputs": [],
   "source": [
    "import src.solutions as solutions\n",
    "import src.visualizations as visualizations\n"
   ]
  },
  {
   "cell_type": "code",
   "execution_count": 3,
   "metadata": {},
   "outputs": [],
   "source": [
    "colors = [\"orange\", \"blue\", \"green\", \"purple\", \"brown\"]"
   ]
  },
  {
   "cell_type": "markdown",
   "metadata": {},
   "source": [
    "## Part 1"
   ]
  },
  {
   "cell_type": "markdown",
   "metadata": {},
   "source": [
    "first draft on assignment 1a, wrote it as an iterative scheme over time and space, saving the two previous time values for the computation of the next time point"
   ]
  },
  {
   "cell_type": "markdown",
   "metadata": {},
   "source": [
    "The discretized wave equation becomes (with functions from solutions): \n",
    "\n",
    "time_approx_1a(deltat, time, func, x) = c^2* spat_approx_1a(deltax, time, func, x, L)\n",
    "\n",
    "you can rewrite this to get the values of the next time point"
   ]
  },
  {
   "cell_type": "markdown",
   "metadata": {},
   "source": [
    "### B\n",
    "\n",
    "Euler's method \n",
    "\n",
    "f_x+1 = f_x + h * f'_x\n",
    "\n",
    "(c*delta t)/delta x < 1 for stable computation \n",
    "looking at this method, you can derive that in the first two time-points, the function follows the exact same curve as the derivative (f'_x) is 0"
   ]
  },
  {
   "cell_type": "markdown",
   "metadata": {},
   "source": [
    "### Plotted snapshots of the wave at different times"
   ]
  },
  {
   "cell_type": "code",
   "execution_count": null,
   "metadata": {},
   "outputs": [],
   "source": [
    "#choose out of options 1, 2 or 3\n",
    "\n",
    "L = 1\n",
    "N = 100\n",
    "c = 1\n",
    "deltat= 0.001\n",
    "iterations = 30000\n",
    "overall_solutions=[]\n",
    "for i in range(3):\n",
    "    overall_solution, xs = solutions.one_b_wrapper(i+1, L, N, c, deltat, iterations)\n",
    "    overall_solutions.append(overall_solution)\n",
    "\n",
    "visualizations.visualization_1b(overall_solutions, xs)"
   ]
  },
  {
   "cell_type": "markdown",
   "metadata": {},
   "source": [
    "### Wave Animation "
   ]
  },
  {
   "cell_type": "code",
   "execution_count": null,
   "metadata": {},
   "outputs": [],
   "source": [
    "# initial values for the wave equation \n",
    "visualizations.animate_1c(L, N, c, deltat)\n"
   ]
  },
  {
   "cell_type": "markdown",
   "metadata": {},
   "source": [
    "The equations for the boundaries:\n",
    "\n",
    "c^(k+1)_(0, j) = 1 -> top row <br>\n",
    "c^(k+1)_(N-1, j) = 0 -> bottom row <br>\n",
    "c^(k+1)_(i, 0) = c^(k+1)_(i, N - 2) -> first column <br>\n",
    "c^(k+1)_(i, -1) = c^(k+1)_(i, 1) -> last column <br>"
   ]
  },
  {
   "cell_type": "markdown",
   "metadata": {},
   "source": [
    "## Diffusion"
   ]
  },
  {
   "cell_type": "code",
   "execution_count": 4,
   "metadata": {},
   "outputs": [],
   "source": [
    "# values used for initial diffusion setup \n",
    "# main parameter values (for discretization)\n",
    "N = 100\n",
    "L = 1.0\n",
    "D = 1\n",
    "\n",
    "# setp sizes\n",
    "dx = L / N\n",
    "dt = 0.25 * dx**2\n",
    "\n",
    "# initial setup\n",
    "gamma = (D * dt) / (dx**2) #what is this gamma\n",
    "num_steps = int(1.0/ dt)\n",
    "y_values = np.linspace(0, 1, N)\n",
    "c = solutions.initialize_grid(N)\n",
    "\n",
    "par_values = (c, num_steps, N, gamma, dt)"
   ]
  },
  {
   "cell_type": "markdown",
   "metadata": {},
   "source": [
    "#### Comparison analytical with numerical solution"
   ]
  },
  {
   "cell_type": "code",
   "execution_count": null,
   "metadata": {},
   "outputs": [],
   "source": [
    "\n",
    "# parse data and check directory layout and file existence or create new data\n",
    "create_new_data = False\n",
    "data_file = \"2D_diffusion.pkl\"\n",
    "all_c, times = solutions.check_and_parse_data(data_file, create_new_data, par_values)\n",
    "\n",
    "# visualize the data together with analytical solution. \n",
    "# visualizations.plot_analytical_solution(y_values, all_c, times, D)\n",
    "visualizations.plot_analytical_solution(y_values, all_c, times, D)\n",
    "# t values 0, 0.001, 0.01, 0.1, 1.0\n",
    "visualizations.plot_five_states(all_c, times)"
   ]
  },
  {
   "cell_type": "markdown",
   "metadata": {},
   "source": [
    "### Snapshot of 5 Diffusion configurations "
   ]
  },
  {
   "cell_type": "code",
   "execution_count": null,
   "metadata": {},
   "outputs": [],
   "source": [
    "\n",
    "# data parsing/generation \n",
    "data_file = \"2D_diffusion_comparison.pkl\"\n",
    "create_new_data = False\n",
    "all_c, times = solutions.check_and_parse_data(data_file, create_new_data, par_values)\n",
    "\n",
    "# visualizations.plot_simulation_without_animation(all_c, N)\n",
    "\n",
    "# animation \n",
    "%matplotlib inline\n",
    "anim = visualizations.animate_2f(solutions.update, c, num_steps, N, gamma, dt)\n",
    "HTML(anim.to_jshtml())"
   ]
  },
  {
   "cell_type": "markdown",
   "metadata": {},
   "source": [
    "I\n",
    "\n",
    "Show how the convergence measure δ in eq. (14) depends on the number\n",
    " of iterations k for each of the methods. A log-lin plot may be suitable. For SOR,\n",
    " choose a few representative values for ω."
   ]
  },
  {
   "cell_type": "code",
   "execution_count": 14,
   "metadata": {},
   "outputs": [],
   "source": [
    "# parameters\n",
    "p_values = np.arange(1, 10)\n",
    "omegas = [1, 1.5]\n",
    "N = 50\n",
    "max_iters = 10000\n",
    "omega_range = np.arange(1.7, 2.0, 0.05)\n",
    "omega_range = np.round(omega_range, 2)\n",
    "N_values = [10, 20, 50, 100]\n"
   ]
  },
  {
   "cell_type": "code",
   "execution_count": null,
   "metadata": {},
   "outputs": [],
   "source": [
    "iterations_jacobi = [solutions.sequential_jacobi(N=N, tol=10.0**-p, max_iters=max_iters) for p in p_values]\n",
    "iterations_gauss_seidel = [solutions.sequential_gauss_seidel(N=N, tol=10.0**-p, max_iters=max_iters) for p in p_values]\n",
    "\n",
    "for omega in omegas:\n",
    "    iterations_sor = [solutions.sequential_SOR(N=N, tol=10.0**-p, max_iters=max_iters, omega=omega) for p in p_values]\n",
    "\n",
    "visualizations.visualization_1i(p_values, iterations_jacobi, iterations_gauss_seidel, iterations_sor, colors)"
   ]
  },
  {
   "cell_type": "markdown",
   "metadata": {},
   "source": [
    "J \n",
    "\n",
    "In the SOR method, find the optimal ω. How does it depend on N?."
   ]
  },
  {
   "cell_type": "code",
   "execution_count": null,
   "metadata": {},
   "outputs": [],
   "source": [
    "optimal_omegas = []\n",
    "iters_N = {}\n",
    "\n",
    "for N in N_values:\n",
    "    best_omega = None\n",
    "    min_iters = float('inf')\n",
    "\n",
    "    iters_omega = []\n",
    "\n",
    "    for omega in omega_range:\n",
    "        iters = solutions.sequential_SOR(N=N, tol=1e-6, max_iters=max_iters, omega=omega)\n",
    "\n",
    "        iters_omega.append(iters)\n",
    "\n",
    "        if iters < min_iters:\n",
    "            min_iters = iters\n",
    "            best_omega = omega\n",
    "\n",
    "    optimal_omegas.append(best_omega)\n",
    "    iters_N[N] = iters_omega\n",
    "\n",
    "visualizations.visualization_1j_omega_iters(iters_N, omega_range, colors=colors)\n",
    "visualizations.visualization_1j_N_omegas(N_values, optimal_omegas, colors=colors)"
   ]
  },
  {
   "cell_type": "code",
   "execution_count": null,
   "metadata": {},
   "outputs": [],
   "source": [
    "def visualization_1i(p_values, iterations_gauss_seidel, colors):\n",
    "\n",
    "    plt.figure(figsize=(5.3, 2.5))\n",
    "    \n",
    "    linestyles = ['-', '--', '-.', ':']\n",
    "    num_styles = len(linestyles)\n",
    "\n",
    "    plt.plot(p_values, iterations_jacobi, color=colors[0], label=\"Jacobi\")\n",
    "    plt.plot(p_values, iterations_gauss_seidel, color=colors[1], label=\"Gauss-Seidel\")\n",
    "\n",
    "    for i, (omega, sor_iterations) in enumerate(iterations_sor.items()):\n",
    "        plt.plot(p_values, sor_iterations, label=f\"SOR (ω={omega})\", color=colors[2], linestyle=linestyles[i % num_styles])\n",
    "\n",
    "    # plt.plot(p_values, iterations_sor, color=colors[2], label=\"Successive Over Relaxation\")\n",
    "    plt.xlabel(r'$p$', fontsize=14)\n",
    "    plt.ylabel('Iterations', fontsize=14)\n",
    "    plt.xticks(fontsize=12)\n",
    "    plt.yticks(fontsize=12)\n",
    "    plt.legend(fontsize=10, loc=\"upper left\")\n",
    "    plt.grid(True)\n",
    "    plt.title(\"Convergence Measure vs. Iterations\")\n",
    "    plt.savefig(\"plots/fig_1i.png\", dpi=300, bbox_inches=\"tight\")\n",
    "    plt.show()\n"
   ]
  },
  {
   "cell_type": "code",
   "execution_count": 5,
   "metadata": {},
   "outputs": [],
   "source": [
    "def place_objects(N, num_object, seed=31, size_object=4):\n",
    "    object_grid = np.zeros((N,N))\n",
    "    np.random.seed(seed)\n",
    "    \n",
    "    for _ in range(num_object):\n",
    "\n",
    "        # staying within range of the grid, + not occupying border cell -> border conditions\n",
    "        x,y = np.random.randint(1, N - size_object, size=2)\n",
    "        points = [(x+j, y+k) for j in range(size_object) for k in range(size_object)]\n",
    "        object_grid[tuple(zip(*points))] = 1\n",
    "\n",
    "    return object_grid \n",
    "\n",
    "def initialize_grid(N):\n",
    "    grid = np.zeros((N, N))\n",
    "\n",
    "    grid[0, :] = 0  # bottom boundary\n",
    "    grid[N - 1, :] = 1  # top boundary\n",
    "\n",
    "    return grid\n",
    "\n",
    "\n",
    "def apply_periodic_boundary(grid):\n",
    "    grid[:, 0] = grid[:, -2]\n",
    "    grid[:, -1] = grid[:, 1]\n",
    "\n",
    "\n",
    "def sequential_SOR(N, tol, max_iters, omega, object_grid=None):\n",
    "    \"\"\"\n",
    "    Solves using the Successive Over Relaxtion (SOR) iteration method.\n",
    "    \n",
    "    The update equation is:\n",
    "        c_{i,j}^{k+1} = (omega/4) * (c_{i+1,j}^{k} + c_{i,j+1}^{k} + c_{i,j+1}^{k} + (1 - omega) c_{i,j}^{k})\n",
    "    \n",
    "    Parameters:\n",
    "        N (int): Grid size.\n",
    "        tol (float): Convergence tolerance.\n",
    "        max_iters (int): Maximum number of iterations.\n",
    "        omega (float): Relaxation factor.\n",
    "\n",
    "    Returns:\n",
    "        int: Number of iterations required to reach convergence.\n",
    "    \"\"\"\n",
    "\n",
    "    # grid initialisation\n",
    "    c = initialize_grid(N)\n",
    "\n",
    "    iter = 0\n",
    "    delta = float('inf')\n",
    "\n",
    "    while delta > tol and iter < max_iters:\n",
    "        delta = 0\n",
    "\n",
    "        for i in range(1, N-1):  # periodic in x\n",
    "            for j in range(1, N-1):  # fixed in y\n",
    "                \n",
    "                # if an grid point lies within the object \n",
    "                if object_grid is not None and object_grid[(i, j)]:\n",
    "                    c_next = 0\n",
    "                    continue\n",
    "                \n",
    "                # periodic boundary conditions\n",
    "                west = c[i - 1, j] if i > 0 else c[N - 1, j]\n",
    "                east = c[i + 1, j] if i < N - 1 else c[0, j]\n",
    "                south = c[i, j - 1] if j > 0 else 0\n",
    "                north = c[i, j + 1] if j < N - 1 else 1\n",
    "                \n",
    "                # SOR update equation\n",
    "                c_next = (omega / 4) * (west + east + south + north) + (1 - omega) * c[i, j]\n",
    "\n",
    "                delta = max(delta, abs(c_next - c[i, j]))\n",
    "                c[i, j] = c_next\n",
    "\n",
    "        iter += 1\n",
    "\n",
    "    return iter"
   ]
  },
  {
   "cell_type": "markdown",
   "metadata": {},
   "source": [
    "### Create Object Grids"
   ]
  },
  {
   "cell_type": "code",
   "execution_count": null,
   "metadata": {},
   "outputs": [],
   "source": [
    "def create_object_layouts(N, object_configs, num_grids=10):\n",
    "    \n",
    "    object_gridjes = []\n",
    "    for num_objects, size in object_configs:\n",
    "        seedje = 30\n",
    "        object_grids_sub = []\n",
    "        for _ in range(num_grids):\n",
    "            object_grids_sub.append(place_objects(N, num_objects, seedje, size))\n",
    "            seedje+=1\n",
    "        object_gridjes.append(object_grids_sub)\n",
    "    return object_gridjes\n",
    "    \n",
    "\n",
    "object_configs = [\n",
    "    (3, 8),   # 3 objects of size 8x8\n",
    "    (48, 2),  # 48 objects of size 2x2\n",
    "    (12, 4),  # 12 objects of size 4x4\n",
    "    (6, 4)   # 6 objects of size 4x4\n",
    "]\n",
    "num_grids = 10\n",
    "sizes = [\n",
    "        \"3 of 8×8\",\n",
    "        \"48 of 2×2\",\n",
    "        \"12 of 4×4\",\n",
    "        \"6 of 4×4\", \n",
    "        \"0 of 0x0\"\n",
    "    ]\n",
    "\n",
    "all_grids = dict()\n",
    "\n",
    "for N in N_values:\n",
    "    # skip if N is smaller than 20, than the objects are too big in contrast to the gridsizes\n",
    "    if N <20:\n",
    "        continue\n",
    "    object_grids = create_object_layouts(N, object_configs, num_grids)\n",
    "    all_grids[N] = object_grids\n",
    "    # take an examplatory grid to visualize\n",
    "    visualizations.visualize_object_grid(object_grids, sizes)\n"
   ]
  },
  {
   "cell_type": "code",
   "execution_count": 7,
   "metadata": {},
   "outputs": [],
   "source": [
    "from multiprocessing import Pool\n",
    "tol = 1e-6 #default tol\n",
    "omegatje = 1.8 #default omega\n",
    "PROCESSES = 10\n",
    "\n",
    "def generate_grid_results(varying, N, all_grids, num_grids, max_iters, omegatje, tol, what_value= \"N\"):\n",
    "    \n",
    "\n",
    "    all_results = dict()\n",
    "    zeros_metric =[]\n",
    "    \n",
    "    ntje = N\n",
    "    omega = omegatje\n",
    "    # iterate over all grid-sizes\n",
    "    for variable in varying:\n",
    "\n",
    "        # determine what value we're iterating over\n",
    "        if what_value == \"N\":\n",
    "            ntje = variable\n",
    "        elif what_value== \"O\":\n",
    "            omega = variable\n",
    "        else:\n",
    "            raise ValueError(f\"{what_value} is not a valid variable to vary\")\n",
    "        if ntje <20:\n",
    "            continue\n",
    "        print(f\"starting parallel implementation of SOR for grid size {ntje}x{ntje}, omega: {omega}\")\n",
    "        result_config = dict()\n",
    "        # loop over different object grid configurations (object sizes)\n",
    "        for config in range(len(all_grids[ntje])):\n",
    "            # loop over the number of grids per grid-setting (parallel implementation)\n",
    "            pars = []\n",
    "            \n",
    "            # make parameter list for parallelization \n",
    "            for run in range(num_grids):\n",
    "                pars.append((ntje, tol, max_iters, omega, all_grids[ntje][config][run]))\n",
    "\n",
    "            # parallelizaiton\n",
    "            with Pool(PROCESSES) as pool:\n",
    "                assert PROCESSES < os.cpu_count(), \"Lower the number of processes (PROCESSES)\"\n",
    "                itertjes = pool.map(solutions.non_sequential_SOR, pars)\n",
    "                assert np.any(itertjes) < max_iters, f\"maximum number of iterations for variables {ntje}, {omega}, {config} is reached\"\n",
    "            # calculate mean and variance, save for every grid size and object configuration\n",
    "            mean_config = np.mean(itertjes)\n",
    "            var_config = np.var(itertjes)\n",
    "            result_config[object_configs[config]] = (mean_config, var_config)\n",
    "        all_results[variable] = result_config\n",
    "    \n",
    "        # a null-measure: with no objects on the grid\n",
    "        zeros_metric.append(sequential_SOR(ntje,tol, max_iters,omega))\n",
    "    return all_results, zeros_metric\n"
   ]
  },
  {
   "cell_type": "code",
   "execution_count": null,
   "metadata": {},
   "outputs": [],
   "source": [
    "# get the mean, variance of every grid size for every object configuration\n",
    "all_results, null_metric = generate_grid_results(N_values, N, all_grids, num_grids, max_iters, omegatje, tol, \"N\")\n"
   ]
  },
  {
   "cell_type": "code",
   "execution_count": null,
   "metadata": {},
   "outputs": [],
   "source": [
    "# get the mean, variance of every omega for every object configuration\n",
    "N=50\n",
    "\n",
    "# tested and does not converge in max iterations for omega=2\n",
    "omega_range_c = np.delete(omega_range, -1)\n",
    "all_results_omega, null_metric_omega = generate_grid_results(omega_range_c, N, all_grids, num_grids, max_iters, omegatje, tol, \"O\")"
   ]
  },
  {
   "cell_type": "code",
   "execution_count": 11,
   "metadata": {},
   "outputs": [],
   "source": [
    "def object_per_gridsize(all_grids, null_measure, config_labels, sizes, colors):\n",
    "    plt.figure(figsize=(4, 2.5))\n",
    "\n",
    "    grids = sorted(all_grids.keys())  # Ensure grid sizes are sorted\n",
    "    # Iterate over each object configuration and plot a separate line\n",
    "    for i, config_label in enumerate(config_labels):\n",
    "        means = []\n",
    "        vartjes = []\n",
    "\n",
    "        for grid_size in grids:\n",
    "            config_data = all_grids[grid_size]  # Get the dictionary for this grid size\n",
    "            means.append(config_data[config_label][0])  # Mean value\n",
    "            vartjes.append(config_data[config_label][1])  # Variance value\n",
    "\n",
    "        # Plot line for this configuration\n",
    "        plt.plot(grids, means, label=f\"{sizes[i]}\", marker=\"o\", color=colors[i])\n",
    "\n",
    "        # Plot variance as a shaded region\n",
    "        plt.fill_between(grids, \n",
    "                         np.array(means) - np.array(np.sqrt(vartjes)), \n",
    "                         np.array(means) + np.array(np.sqrt(vartjes)), \n",
    "                         alpha=0.2, color=colors[i])\n",
    "\n",
    "    # Plot null measure for reference\n",
    "    plt.plot(grids, null_measure, '--', label=f\"{sizes[-1]}\", color=\"black\")\n",
    "    # plt.yscale(\"log\")\n",
    "    # Labels and legend\n",
    "    plt.xlabel(\"Grid Size\")\n",
    "    plt.ylabel(\"Iterations\")\n",
    "    plt.legend()\n",
    "    plt.title(\"Convergence on Object Grid\")\n",
    "    plt.show()\n"
   ]
  },
  {
   "cell_type": "code",
   "execution_count": null,
   "metadata": {},
   "outputs": [],
   "source": [
    "object_per_gridsize(all_results_omega, null_metric_omega, object_configs, sizes, colors)"
   ]
  },
  {
   "cell_type": "code",
   "execution_count": null,
   "metadata": {},
   "outputs": [],
   "source": [
    "\n",
    "object_per_gridsize(all_results, null_metric, object_configs, sizes, colors)\n",
    "\n",
    "for res, val in all_results.items():\n",
    "    print(f\"for gridsize {res}:\")\n",
    "    for config, (mean, var) in val.items():\n",
    "        print(f\"for configuration {config}, mean: {mean}, var:{var}\")"
   ]
  },
  {
   "cell_type": "code",
   "execution_count": null,
   "metadata": {},
   "outputs": [],
   "source": []
  }
 ],
 "metadata": {
  "kernelspec": {
   "display_name": "myenvsc",
   "language": "python",
   "name": "python3"
  },
  "language_info": {
   "codemirror_mode": {
    "name": "ipython",
    "version": 3
   },
   "file_extension": ".py",
   "mimetype": "text/x-python",
   "name": "python",
   "nbconvert_exporter": "python",
   "pygments_lexer": "ipython3",
   "version": "3.12.3"
  }
 },
 "nbformat": 4,
 "nbformat_minor": 2
}
