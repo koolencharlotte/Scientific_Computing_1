{
 "cells": [
  {
   "cell_type": "markdown",
   "metadata": {},
   "source": [
    "<!-- # Assignment 1 Scientific Computing  -->"
   ]
  },
  {
   "cell_type": "markdown",
   "metadata": {},
   "source": [
    "# Scientific Computing: Wave and Diffusion Simulations"
   ]
  },
  {
   "cell_type": "markdown",
   "metadata": {},
   "source": [
    "## Imports"
   ]
  },
  {
   "cell_type": "code",
   "execution_count": null,
   "metadata": {},
   "outputs": [],
   "source": [
    "import numpy as np\n",
    "from IPython.display import HTML\n",
    "\n",
    "import src.solutions as solutions\n",
    "import src.visualizations as visualizations\n"
   ]
  },
  {
   "cell_type": "code",
   "execution_count": null,
   "metadata": {},
   "outputs": [],
   "source": [
    "colors = [\"orange\", \"blue\", \"green\", \"purple\", \"brown\"]"
   ]
  },
  {
   "cell_type": "markdown",
   "metadata": {},
   "source": [
    "## Waves"
   ]
  },
  {
   "cell_type": "markdown",
   "metadata": {},
   "source": [
    "The discretized wave equation becomes (with functions from solutions): "
   ]
  },
  {
   "cell_type": "markdown",
   "metadata": {},
   "source": [
    "### Initial values for discretized wave function\n",
    "Euler's method: f_x+1 = f_x + h * f'_x\n",
    "\n",
    "(c*delta t)/delta x < 1 for stable computation \n",
    "looking at this method, you can derive that in the first two time-points, the function follows the exact same curve as the derivative (f'_x) is 0"
   ]
  },
  {
   "cell_type": "markdown",
   "metadata": {},
   "source": [
    "### B: Plotted snapshots of the wave at different times"
   ]
  },
  {
   "cell_type": "code",
   "execution_count": null,
   "metadata": {},
   "outputs": [],
   "source": [
    "L = 1\n",
    "N = 100\n",
    "c = 1\n",
    "deltat= 0.001\n",
    "iterations = 30000\n",
    "overall_solutions=[]\n",
    "\n",
    "# save a solution for every 3000 timesteps to plot\n",
    "for i in range(3):\n",
    "    overall_solution, xs = solutions.one_b_wrapper(i+1, L, N, c, deltat, iterations)\n",
    "    overall_solutions.append(overall_solution)"
   ]
  },
  {
   "cell_type": "code",
   "execution_count": null,
   "metadata": {},
   "outputs": [],
   "source": [
    "visualizations.visualization_1b(overall_solutions, xs, deltat, iterations)"
   ]
  },
  {
   "cell_type": "markdown",
   "metadata": {},
   "source": [
    "### C: Wave Animation "
   ]
  },
  {
   "cell_type": "code",
   "execution_count": null,
   "metadata": {},
   "outputs": [],
   "source": [
    "%matplotlib inline\n",
    "wave_anim = visualizations.animate_1c(L, N, c, deltat)\n",
    "saved_anim = \"plots/network_animation10.gif\"\n",
    "HTML(f'<img src=\"{saved_anim}\" style=\"width: 600px;\">')"
   ]
  },
  {
   "cell_type": "markdown",
   "metadata": {},
   "source": [
    "## Time Dependent Diffusion"
   ]
  },
  {
   "cell_type": "markdown",
   "metadata": {},
   "source": [
    "### D: Boundaries of the domain\n",
    "\n",
    "The equations for the boundaries:\n",
    "\n",
    "c^(k+1)_(0, j) = 1 -> top row <br>\n",
    "c^(k+1)_(N-1, j) = 0 -> bottom row <br>\n",
    "c^(k+1)_(i, 0) = c^(k+1)_(i, N - 2) -> first column <br>\n",
    "c^(k+1)_(i, -1) = c^(k+1)_(i, 1) -> last column <br>"
   ]
  },
  {
   "cell_type": "code",
   "execution_count": null,
   "metadata": {},
   "outputs": [],
   "source": [
    "# values used for initial diffusion setup \n",
    "# main parameter values (for discretization)\n",
    "N = 100\n",
    "L = 1.0\n",
    "D = 1\n",
    "\n",
    "# setp sizes\n",
    "dx = L / N\n",
    "dt = 0.25 * dx**2\n",
    "\n",
    "# initial setup\n",
    "gamma = (D * dt) / (dx**2) #Placeholder that combines diffusion coefficient D, time step dt and spatial step dx\n",
    "num_steps = int(1.0/ dt)\n",
    "y_values = np.linspace(0, 1, N)\n",
    "c = solutions.initialize_grid(N)\n",
    "\n",
    "par_values = (c, num_steps, N, gamma, dt)"
   ]
  },
  {
   "cell_type": "markdown",
   "metadata": {},
   "source": [
    "### E: Comparison analytical with numerical solution\n",
    "\n",
    "Test the correctness of your simulation. Compare to the analytic solution, plot c(y) for different times."
   ]
  },
  {
   "cell_type": "code",
   "execution_count": null,
   "metadata": {},
   "outputs": [],
   "source": [
    "\n",
    "# parse data and check directory layout and file existence or create new data (set create_new_data = True) \n",
    "create_new_data = True\n",
    "data_file = \"2D_diffusion_2.pkl\"\n",
    "comparison = True\n",
    "all_c, times = solutions.check_and_parse_data(data_file, create_new_data, par_values, comparison)\n",
    "# visualize the data together with analytical solution. \n",
    "if comparison:\n",
    "    visualizations.plot_analytical_solution_with_error(y_values, all_c, times, D)\n"
   ]
  },
  {
   "cell_type": "markdown",
   "metadata": {},
   "source": [
    "### F: Snapshot of 5 Diffusion configurations\n",
    "\n",
    "Plot the results, show the 2D domain, with a color representing the concentration at each point. Make a plot of the state of the system at several times: t = {0, 0.001, 0.01, 0.1, and 1}"
   ]
  },
  {
   "cell_type": "code",
   "execution_count": null,
   "metadata": {},
   "outputs": [],
   "source": [
    "# t values 0, 0.001, 0.01, 0.1, 1.0\n",
    "visualizations.plot_five_states(all_c, times)\n"
   ]
  },
  {
   "cell_type": "markdown",
   "metadata": {},
   "source": [
    "### G: Animation\n",
    "\n",
    "Make an animated plot of the time dependent diffusion equation until equilibrium."
   ]
  },
  {
   "cell_type": "code",
   "execution_count": null,
   "metadata": {},
   "outputs": [],
   "source": [
    "\n",
    "\n",
    "# data parsing/generation \n",
    "data_file = \"2D_diffusion_2.pkl\"\n",
    "create_new_data = True\n",
    "comparison = False\n",
    "all_c, times = solutions.check_and_parse_data(data_file, create_new_data, par_values, comparison)\n",
    "\n",
    "# visualizations.plot_simulation_without_animation(all_c, N)\n",
    "\n",
    "# animation \n",
    "%matplotlib inline\n",
    "c2 = c.copy()\n",
    "anim = visualizations.animate_1g(solutions.update, c2, num_steps, N, gamma, dt)\n",
    "HTML(anim.to_jshtml())"
   ]
  },
  {
   "cell_type": "markdown",
   "metadata": {},
   "source": [
    "## Steady State Configuration "
   ]
  },
  {
   "cell_type": "code",
   "execution_count": null,
   "metadata": {},
   "outputs": [],
   "source": [
    "# parameters for questions H t/m J: Iterative Solvers \n",
    "\n",
    "max_iters = 10000 # maximum number of iterations\n",
    "N = 50 # grid size \n",
    "\n",
    "# analytical solution\n",
    "tol = 1e-6 # tolerance for stopping criterion\n",
    "omega = 1.9 # omega value for SOR\n",
    "\n",
    "# convergence measure vs iterations\n",
    "p_values = np.arange(0, 11) # p values for stopping criterion\n",
    "omegas = [1.7, 1.8, 1.9] # omega values for SOR\n",
    "\n",
    "# optimal omega vs grid size\n",
    "omega_range = np.arange(1.7, 2.0, 0.05) # omega values\n",
    "N_values = [10, 20, 50, 100] # grid sizes\n",
    "optimal_omegas = {}\n",
    "iters_N = {}"
   ]
  },
  {
   "cell_type": "markdown",
   "metadata": {},
   "source": [
    "### H: Jacobi, Gauss-Seidel, SOR VS. Analytical\n",
    "\n",
    " Implemented the Jacobi, Gauss-Seidel, and Successive over Relaxation methods. Compared the results to the analytical result for N=50."
   ]
  },
  {
   "cell_type": "code",
   "execution_count": null,
   "metadata": {},
   "outputs": [],
   "source": [
    "# get final grids for all three iterative methods\n",
    "_, c_jacobi_2d = solutions.sequential_jacobi(N, tol, max_iters)\n",
    "_, c_gs_2d     = solutions.sequential_gauss_seidel(N, tol, max_iters)\n",
    "_, c_sor_2d    = solutions.sequential_SOR(N, tol, max_iters, omega)\n",
    "\n",
    "visualizations.visualization_1h(c_jacobi_2d, c_gs_2d, c_sor_2d, N)"
   ]
  },
  {
   "cell_type": "markdown",
   "metadata": {},
   "source": [
    "### I: Convergence for different tol δ vs Number of Iterations \n",
    "\n",
    "Shows how the convergence measure δ depends on the number of iterations k for each of the methods."
   ]
  },
  {
   "cell_type": "code",
   "execution_count": null,
   "metadata": {},
   "outputs": [],
   "source": [
    "# get iteration count for all three iterative methods\n",
    "results_jacobi = [solutions.sequential_jacobi(N=N, tol=10.0**-p, max_iters=max_iters) for p in p_values]\n",
    "iterations_jacobi, _ = zip(*results_jacobi)\n",
    "\n",
    "results_gauss_seidel = [solutions.sequential_gauss_seidel(N=N, tol=10.0**-p, max_iters=max_iters) for p in p_values]\n",
    "iterations_gauss_seidel, _ = zip(*results_gauss_seidel)\n",
    "\n",
    "results_sor = {omega: [solutions.sequential_SOR(N=N, tol=10.0**-p, max_iters=max_iters, omega=omega) for p in p_values] for omega in omegas}\n",
    "iterations_sor = {omega: [result[0] for result in results_sor[omega]] for omega in omegas}\n",
    "\n",
    "visualizations.visualization_1i(p_values, iterations_jacobi, iterations_gauss_seidel, iterations_sor, colors=colors)"
   ]
  },
  {
   "cell_type": "markdown",
   "metadata": {},
   "source": [
    "### J: Finding optimal ω for SOR\n",
    "\n",
    "In the SOR method, finds the optimal ω and how it depends on N."
   ]
  },
  {
   "cell_type": "code",
   "execution_count": null,
   "metadata": {},
   "outputs": [],
   "source": [
    "# loop over grid sizes\n",
    "for N in N_values:\n",
    "    best_omega = None\n",
    "    min_iters = float('inf')\n",
    "\n",
    "    iters_omega = []\n",
    "\n",
    "    # loop over omegas \n",
    "    for omega in omega_range:\n",
    "\n",
    "        # get iteration count for SOR method\n",
    "        iters, _ = solutions.sequential_SOR(N=N, tol=1e-6, max_iters=max_iters, omega=omega)\n",
    "\n",
    "        iters_omega.append(iters)\n",
    "\n",
    "        # if current omega results in fewer iterations than current minimum iteration count\n",
    "        if iters < min_iters:\n",
    "            \n",
    "            # update min_iters and best_omega for this grid size\n",
    "            min_iters = iters\n",
    "            best_omega = omega\n",
    "\n",
    "    # store best omega for this grid size in lost of optimal omegas\n",
    "    optimal_omegas.append(best_omega)\n",
    "    \n",
    "    # store iterion counts for all omega values for this grid size\n",
    "    iters_N[N] = iters_omega\n",
    "\n",
    "visualizations.visualization_1j_omega_iters(iters_N, omega_range, colors=colors)\n",
    "visualizations.visualization_1j_N_omegas(N_values, optimal_omegas, colors=colors)"
   ]
  },
  {
   "cell_type": "markdown",
   "metadata": {},
   "source": [
    "### K: Objects"
   ]
  },
  {
   "cell_type": "markdown",
   "metadata": {},
   "source": [
    "#### Define Parameters and Create Object Grids"
   ]
  },
  {
   "cell_type": "code",
   "execution_count": null,
   "metadata": {},
   "outputs": [],
   "source": [
    "# parameters for experimentation \n",
    "max_iters = 10000 #after this we stop trying to converge\n",
    "\n",
    "omega_range = np.arange(1.7, 2.0, 0.05)\n",
    "omega_range = np.round(omega_range, 2)\n",
    "omega_range_c = np.delete(omega_range, -1) #omegas for experimentation \n",
    "\n",
    "N_values = [20, 50, 100] #experimental vlaues for grid size\n",
    "omegatje= 1.9 #optimal omega for grid size 50X50\n",
    "tol = 1e-6 #default tol\n",
    "PROCESSES = 10  #number of processes for parallelization \n",
    "N=50 #default grid size\n",
    "num_grids = 10 # number of object grids with the same configuration are created (as they're placed randomly multiple runs are needed)\n"
   ]
  },
  {
   "cell_type": "code",
   "execution_count": null,
   "metadata": {},
   "outputs": [],
   "source": [
    "\n",
    "# different object configurations (note that the covered surface for the first 3 configs is the same)\n",
    "object_configs = [\n",
    "    (3, 8),   # 3 objects of size 8x8\n",
    "    (48, 2),  # 48 objects of size 2x2\n",
    "    (12, 4),  # 12 objects of size 4x4\n",
    "    (6, 4)   # 6 objects of size 4x4\n",
    "]\n",
    "\n",
    "\n",
    "# naming of the object configurations run with SOR\n",
    "sizes = [\n",
    "        \"3 of 8×8\",\n",
    "        \"48 of 2×2\",\n",
    "        \"12 of 4×4\",\n",
    "        \"6 of 4×4\", \n",
    "        \"0 of 0x0\"\n",
    "    ]\n",
    "\n",
    "# Saving all grids in a dictionary. \n",
    "all_grids = dict()\n",
    "for ntje in N_values:\n",
    "    # skip if N is smaller than 20, than the objects are too big in contrast to the gridsizes\n",
    "    if ntje <20:\n",
    "        continue\n",
    "\n",
    "    # objects (following configuration) are randomly placed on the grid\n",
    "    object_grids = solutions.create_object_layouts(ntje, object_configs, num_grids)\n",
    "    all_grids[ntje] = object_grids\n",
    "    # take an examplatory grid to visualize\n",
    "\n",
    "# Visualization of 50x50 grid with all object configurations \n",
    "visualizations.visualize_object_grid(all_grids[50], sizes)\n"
   ]
  },
  {
   "cell_type": "markdown",
   "metadata": {},
   "source": [
    "#### Apply SOR on different grids for all object configuraitons (parallelized over different runs)"
   ]
  },
  {
   "cell_type": "code",
   "execution_count": null,
   "metadata": {},
   "outputs": [],
   "source": [
    "# get the mean, variance of every grid size for every object configuration (takes 1 min)\n",
    "# null metric is for grid without any objects \n",
    "all_results, solutions_map, null_metric = solutions.generate_grid_results(N_values, N, all_grids, num_grids, max_iters, omegatje, tol, object_configs, \"N\", PROCESSES)"
   ]
  },
  {
   "cell_type": "markdown",
   "metadata": {},
   "source": [
    "#### Apply SOR on different omega values for all object configuraitons (parallelized over different runs)\n"
   ]
  },
  {
   "cell_type": "code",
   "execution_count": null,
   "metadata": {},
   "outputs": [],
   "source": [
    "# get the mean, variance of every omega for every object configuration (takes 1 min)\n",
    "# null metric is for grid without any objects\n",
    "all_results_omega, solutions_map_omega, null_metric_omega = solutions.generate_grid_results(omega_range_c, N, all_grids, num_grids, max_iters, omegatje, tol, object_configs, \"O\", PROCESSES)"
   ]
  },
  {
   "cell_type": "markdown",
   "metadata": {},
   "source": [
    "#### Visualize results for different grid sizes and omega values for all object configurations"
   ]
  },
  {
   "cell_type": "code",
   "execution_count": null,
   "metadata": {},
   "outputs": [],
   "source": [
    "visualizations.vis_object_per_gridsize(all_results, all_results_omega, null_metric, null_metric_omega, object_configs, sizes, colors)"
   ]
  },
  {
   "cell_type": "markdown",
   "metadata": {},
   "source": [
    "#### Visualizing the converged grids for every object configuration setting and omega values (one examplatory object layout is used for each parameter setting)\n",
    "this to aid the understanding of why convergence is reached faster when more objects are placed "
   ]
  },
  {
   "cell_type": "code",
   "execution_count": null,
   "metadata": {},
   "outputs": [],
   "source": [
    "for config_label in object_configs:\n",
    "    visualizations.plot_converged_object_grid(solutions_map_omega, omega_range_c, config_label, \"O\")"
   ]
  },
  {
   "cell_type": "markdown",
   "metadata": {},
   "source": [
    "#### Visualizing the converged grids for every object configuration setting and all grid sizes (one examplatory object layout is used for each parameter setting)"
   ]
  },
  {
   "cell_type": "code",
   "execution_count": null,
   "metadata": {},
   "outputs": [],
   "source": [
    "\n",
    "for i, config_label in enumerate(object_configs):\n",
    "    visualizations.plot_converged_object_grid(solutions_map, N_values, config_label)\n",
    "\n"
   ]
  },
  {
   "cell_type": "markdown",
   "metadata": {},
   "source": [
    "#### Statistical Testing for every object configuration\n",
    "As we used multiple runs because of random placement of the objects, statistical testing is necessary"
   ]
  },
  {
   "cell_type": "code",
   "execution_count": null,
   "metadata": {},
   "outputs": [],
   "source": [
    "solutions.statistical_test_for_objects(object_configs, all_results_omega)\n",
    "solutions.statistical_test_for_objects(object_configs, all_results, \"N\")"
   ]
  },
  {
   "cell_type": "code",
   "execution_count": null,
   "metadata": {},
   "outputs": [],
   "source": []
  }
 ],
 "metadata": {
  "kernelspec": {
   "display_name": "myenvsc",
   "language": "python",
   "name": "python3"
  },
  "language_info": {
   "codemirror_mode": {
    "name": "ipython",
    "version": 3
   },
   "file_extension": ".py",
   "mimetype": "text/x-python",
   "name": "python",
   "nbconvert_exporter": "python",
   "pygments_lexer": "ipython3",
   "version": "3.12.3"
  }
 },
 "nbformat": 4,
 "nbformat_minor": 2
}
