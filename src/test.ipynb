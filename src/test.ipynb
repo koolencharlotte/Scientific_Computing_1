{
 "cells": [
  {
   "cell_type": "code",
   "execution_count": 1,
   "metadata": {},
   "outputs": [],
   "source": [
    "from solutions import sequential_jacobi, sequential_gauss_seidel\n"
   ]
  },
  {
   "cell_type": "code",
   "execution_count": 6,
   "metadata": {},
   "outputs": [
    {
     "name": "stdout",
     "output_type": "stream",
     "text": [
      "Jacobi:\n",
      "Converged in 660 iterations with δ = 0.00000999\n",
      "\n",
      "Gauss-Seidel:\n",
      "Converged in 515 iterations with δ = 0.00000999\n"
     ]
    }
   ],
   "source": [
    "print(\"Jacobi:\")\n",
    "result_jacobi = sequential_jacobi(N=50, tol=1e-5, max_iters=10000)\n",
    "\n",
    "print(\"\\nGauss-Seidel:\")\n",
    "result_gauss_seidel = sequential_gauss_seidel(N=50, tol=1e-5, max_iters=10000)"
   ]
  },
  {
   "cell_type": "code",
   "execution_count": null,
   "metadata": {},
   "outputs": [],
   "source": []
  }
 ],
 "metadata": {
  "kernelspec": {
   "display_name": ".venv",
   "language": "python",
   "name": "python3"
  },
  "language_info": {
   "codemirror_mode": {
    "name": "ipython",
    "version": 3
   },
   "file_extension": ".py",
   "mimetype": "text/x-python",
   "name": "python",
   "nbconvert_exporter": "python",
   "pygments_lexer": "ipython3",
   "version": "3.11.9"
  }
 },
 "nbformat": 4,
 "nbformat_minor": 2
}
